{
 "cells": [
  {
   "cell_type": "code",
   "execution_count": null,
   "metadata": {},
   "outputs": [],
   "source": [
    "##Write a program which will find all such numbers which are divisible by 7 but are not a multiple\n",
    "##of 5, between 2000 and 3200 (both included). The numbers obtained should be printed in a\n",
    "##comma-separated sequence on a single line.\n",
    "\n",
    "for i in range(2001,3001):\n",
    "    if i%7==0 and i%5!=0:\n",
    "        print(i,end=\", \")"
   ]
  },
  {
   "cell_type": "code",
   "execution_count": null,
   "metadata": {},
   "outputs": [],
   "source": [
    "i = 2001\n",
    "while i <= 3001:\n",
    "    if i%7==0 and i%5!=0:\n",
    "        print(i,end=\", \")\n",
    "    i +=1 "
   ]
  },
  {
   "cell_type": "code",
   "execution_count": 10,
   "metadata": {},
   "outputs": [
    {
     "name": "stdout",
     "output_type": "stream",
     "text": [
      "Please enter first name:Sudheer\n",
      "Please enter first name:katta\n",
      "katta Sudheer\n",
      "None\n"
     ]
    }
   ],
   "source": [
    "##Write a Python program to accept the user's first and last name and then getting them printed in\n",
    "##the the reverse order with a space between first name and last name.\n",
    "\n",
    "first_name = input(\"Please enter first name:\")\n",
    "last_name = input(\"Please enter first name:\")\n",
    "\n",
    "name = print(last_name+\" \"+first_name)\n",
    "print(name)"
   ]
  },
  {
   "cell_type": "code",
   "execution_count": 13,
   "metadata": {},
   "outputs": [
    {
     "name": "stdout",
     "output_type": "stream",
     "text": [
      "904.7779199999999\n"
     ]
    }
   ],
   "source": [
    "##Write a Python program to find the volume of a sphere with diameter 12 cm.\n",
    "import math\n",
    "diameter = 12\n",
    "\n",
    "V= (4/3)*3.14159*math.pow((diameter/2),3)\n",
    "print(V)"
   ]
  },
  {
   "cell_type": "code",
   "execution_count": 38,
   "metadata": {},
   "outputs": [
    {
     "name": "stdout",
     "output_type": "stream",
     "text": [
      "Please no of rows to print:4\n",
      "*\n",
      "**\n",
      "***\n",
      "****\n",
      "***\n",
      "**\n",
      "*\n",
      "\n"
     ]
    }
   ],
   "source": [
    "#Create the below pattern using nested for loop in Python.\n",
    "row = input(\"Please no of rows to print:\")\n",
    "row = int(row)\n",
    "\n",
    "for i in range(0,row):\n",
    "    for j in range(0,i+1):\n",
    "        print(\"*\",end = '')\n",
    "    print(\"\\r\")\n",
    "    \n",
    "for i in range(row,0,-1):\n",
    "    for j in range(0,i-1):\n",
    "        print(\"*\",end = '')\n",
    "    print('\\r')"
   ]
  },
  {
   "cell_type": "code",
   "execution_count": 39,
   "metadata": {},
   "outputs": [
    {
     "name": "stdout",
     "output_type": "stream",
     "text": [
      "Please enter row sequence:4\n"
     ]
    }
   ],
   "source": [
    "#Create the below pattern using nested for loop in Python.\n",
    "row = input(\"Please enter row sequence:\")\n",
    "row = int()\n",
    "\n",
    "for i in range (0,row):\n",
    "    for j in range (0, i+1):\n",
    "        print(\"*\", end=\"\")\n",
    "    print(\"\\r\")\n",
    "for i in range (row,0,-1):\n",
    "    for j in range (0, i-1):\n",
    "        print(\"*\", end=\"\")\n",
    "    print(\"\\r\")\n",
    "    "
   ]
  },
  {
   "cell_type": "code",
   "execution_count": 32,
   "metadata": {},
   "outputs": [
    {
     "name": "stdout",
     "output_type": "stream",
     "text": [
      "WE, THE PEOPLE OF INDIA, \n",
      "\thaving solemnly resolved to constitute India into a SOVEREIGN,! \n",
      "\t\tSOCIALIST, SECULAR, DEMOCRATIC REPUBLIC \n",
      "\t\tand to secure to all its citizens\n"
     ]
    }
   ],
   "source": [
    "##WE, THE PEOPLE OF INDIA, having solemnly resolved to constitute India into a\n",
    "##SOVEREIGN, SOCIALIST, SECULAR, DEMOCRATIC REPUBLIC and to secure to all\n",
    "##its citizens\n",
    "\n",
    "print(\"WE, THE PEOPLE OF INDIA, \\n\\thaving solemnly resolved to constitute India into a SOVEREIGN,! \\n\\t\\tSOCIALIST, SECULAR, DEMOCRATIC REPUBLIC \\n\\t\\t\" \"and to secure to all its citizens\")\n",
    "    "
   ]
  },
  {
   "cell_type": "code",
   "execution_count": 1,
   "metadata": {},
   "outputs": [
    {
     "name": "stdout",
     "output_type": "stream",
     "text": [
      "Input some comma seprated numbers : 2,3,5,7,8\n",
      "List :  ['2', '3', '5', '7', '8']\n",
      "Tuple :  ('2', '3', '5', '7', '8')\n"
     ]
    }
   ],
   "source": [
    "#Write a program which accepts a sequence of comma-separated numbers from console and\n",
    "#generate a list.\n",
    "values = input(\"Input some comma seprated numbers : \")\n",
    "list = values.split(\",\")\n",
    "tuple = tuple(list)\n",
    "print('List : ',list)   \n",
    "print('Tuple : ',tuple)"
   ]
  },
  {
   "cell_type": "code",
   "execution_count": 33,
   "metadata": {},
   "outputs": [
    {
     "name": "stdout",
     "output_type": "stream",
     "text": [
      "Please the name u want to reverse :dharika\n",
      "akirahd\n"
     ]
    }
   ],
   "source": [
    "##Write a Python program to reverse a word after accepting the input from the user.\n",
    "name = input(\"Please the name u want to reverse :\" )\n",
    "\n",
    "print(name[::-1])"
   ]
  }
 ],
 "metadata": {
  "kernelspec": {
   "display_name": "Python 3",
   "language": "python",
   "name": "python3"
  },
  "language_info": {
   "codemirror_mode": {
    "name": "ipython",
    "version": 3
   },
   "file_extension": ".py",
   "mimetype": "text/x-python",
   "name": "python",
   "nbconvert_exporter": "python",
   "pygments_lexer": "ipython3",
   "version": "3.6.5"
  }
 },
 "nbformat": 4,
 "nbformat_minor": 2
}
